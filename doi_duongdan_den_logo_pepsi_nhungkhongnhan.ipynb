{
  "nbformat": 4,
  "nbformat_minor": 0,
  "metadata": {
    "colab": {
      "provenance": [],
      "authorship_tag": "ABX9TyMgeHDJaoT/LiBaE9AamMN2",
      "include_colab_link": true
    },
    "kernelspec": {
      "name": "python3",
      "display_name": "Python 3"
    },
    "language_info": {
      "name": "python"
    }
  },
  "cells": [
    {
      "cell_type": "markdown",
      "metadata": {
        "id": "view-in-github",
        "colab_type": "text"
      },
      "source": [
        "<a href=\"https://colab.research.google.com/github/tranminhnguyen11/TranMinh/blob/master/doi_duongdan_den_logo_pepsi_nhungkhongnhan.ipynb\" target=\"_parent\"><img src=\"https://colab.research.google.com/assets/colab-badge.svg\" alt=\"Open In Colab\"/></a>"
      ]
    },
    {
      "cell_type": "code",
      "execution_count": 2,
      "metadata": {
        "colab": {
          "base_uri": "https://localhost:8080/"
        },
        "id": "E_vPJe38gXBA",
        "outputId": "c963e979-821f-4895-d2ec-3d7f531ce090"
      },
      "outputs": [
        {
          "output_type": "stream",
          "name": "stdout",
          "text": [
            "So luong anh  :  0\n",
            "           \n",
            "[]\n"
          ]
        }
      ],
      "source": [
        "import matplotlib.pyplot as plt\n",
        "import numpy as np\n",
        "import PIL\n",
        "import tensorflow as tf\n",
        "\n",
        "from tensorflow import keras\n",
        "from tensorflow.keras import layers\n",
        "from tensorflow.keras.models import Sequential\n",
        "import pathlib\n",
        "\n",
        "dataset_url = \"https://github.com/tranminhnguyen11/TranMinh/tree/master/logo/logo.rar\"\n",
        "data_dir = tf.keras.utils.get_file('logo', origin=dataset_url, untar=True)\n",
        "data_dir = pathlib.Path(data_dir)\n",
        "\n",
        "\n",
        "image_count = len(list(data_dir.glob('*')))\n",
        "print(\"So luong anh  : \",image_count)\n",
        "print(\"           \")\n",
        "\n",
        "#hoa hong\n",
        "pepsi = list(data_dir.glob('pepsi/*'))\n",
        "print(pepsi)\n",
        "\n",
        "#PIL.Image.open(str(pepsi[0]))\n",
        "#"
      ]
    }
  ]
}